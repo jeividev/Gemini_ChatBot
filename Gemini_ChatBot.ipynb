{
  "nbformat": 4,
  "nbformat_minor": 0,
  "metadata": {
    "colab": {
      "provenance": [],
      "gpuType": "T4",
      "collapsed_sections": [
        "J82PIUs9Y9z_",
        "41jDKHHKY54m"
      ],
      "authorship_tag": "ABX9TyOg5NIjp7oExg/Q0tZmr10c",
      "include_colab_link": true
    },
    "kernelspec": {
      "name": "python3",
      "display_name": "Python 3"
    },
    "language_info": {
      "name": "python"
    },
    "accelerator": "GPU"
  },
  "cells": [
    {
      "cell_type": "markdown",
      "metadata": {
        "id": "view-in-github",
        "colab_type": "text"
      },
      "source": [
        "<a href=\"https://colab.research.google.com/github/jeividev/Gemini_ChatBot/blob/main/Gemini_ChatBot.ipynb\" target=\"_parent\"><img src=\"https://colab.research.google.com/assets/colab-badge.svg\" alt=\"Open In Colab\"/></a>"
      ]
    },
    {
      "cell_type": "markdown",
      "source": [
        "# Installing Packages / Import"
      ],
      "metadata": {
        "id": "J82PIUs9Y9z_"
      }
    },
    {
      "cell_type": "code",
      "execution_count": null,
      "metadata": {
        "id": "8HGPH08Lc4if"
      },
      "outputs": [],
      "source": [
        "# -q => Não retornar informação\n",
        "# -U => Caso já tenha instalado, instalar o atual\n",
        "\n",
        "!pip install -q -U google-generativeai"
      ]
    },
    {
      "cell_type": "code",
      "source": [
        "import google.generativeai as genai\n",
        "from google.colab import userdata"
      ],
      "metadata": {
        "id": "H-Ke7YtBVpB0"
      },
      "execution_count": null,
      "outputs": []
    },
    {
      "cell_type": "markdown",
      "source": [
        "# Configuring the model"
      ],
      "metadata": {
        "id": "41jDKHHKY54m"
      }
    },
    {
      "cell_type": "code",
      "source": [
        "GOOGLE_API_KEY = userdata.get('GOOGLE_API_KEY')\n",
        "\n",
        "genai.configure(api_key=GOOGLE_API_KEY)"
      ],
      "metadata": {
        "id": "Z0nwARVIWvqL"
      },
      "execution_count": null,
      "outputs": []
    },
    {
      "cell_type": "code",
      "source": [
        "# Listando os modelos\n",
        "for m in genai.list_models():\n",
        "  if 'generateContent' in m.supported_generation_methods:\n",
        "    print(m.name)"
      ],
      "metadata": {
        "colab": {
          "base_uri": "https://localhost:8080/"
        },
        "id": "eX8MpzdPXGae",
        "outputId": "5645b946-5f60-4831-a8a3-a3accfc49a65"
      },
      "execution_count": null,
      "outputs": [
        {
          "output_type": "stream",
          "name": "stdout",
          "text": [
            "models/gemini-1.0-pro\n",
            "models/gemini-1.0-pro-001\n",
            "models/gemini-1.0-pro-latest\n",
            "models/gemini-1.0-pro-vision-latest\n",
            "models/gemini-1.5-pro-latest\n",
            "models/gemini-pro\n",
            "models/gemini-pro-vision\n"
          ]
        }
      ]
    },
    {
      "cell_type": "markdown",
      "source": [
        "## Parametrizando"
      ],
      "metadata": {
        "id": "Ke79sSHyZtk_"
      }
    },
    {
      "cell_type": "code",
      "source": [
        "generation_config = {\n",
        "    'candidate_count': 1, # Possibilidades de respostas\n",
        "    'temperature': 0.5 # 0 => Conservador // 1 => Criativo\n",
        "    # 'top_p':\n",
        "    # 'top_k':\n",
        "}"
      ],
      "metadata": {
        "id": "l9hLIV4hXeWh"
      },
      "execution_count": null,
      "outputs": []
    },
    {
      "cell_type": "code",
      "source": [
        "# Options:\n",
        "  # BLOCK_NONE\n",
        "  # BLOCK_FEW\n",
        "  # BLOCK_SOME\n",
        "  # BLOCK_MOST\n",
        "\n",
        "safety_settings = {\n",
        "    'HARASSMENT': 'BLOCK_NONE',\n",
        "    'HATE': 'BLOCK_NONE',\n",
        "    'SEXUAL': 'BLOCK_NONE',\n",
        "    'DANGEROUS': 'BLOCK_NONE'\n",
        "}"
      ],
      "metadata": {
        "id": "lIJ2yhlfYFJ2"
      },
      "execution_count": null,
      "outputs": []
    },
    {
      "cell_type": "markdown",
      "source": [
        "# Init"
      ],
      "metadata": {
        "id": "VkCLts9Oaru7"
      }
    },
    {
      "cell_type": "code",
      "source": [
        "model = genai.GenerativeModel(model_name='gemini-1.0-pro',\n",
        "                              generation_config=generation_config,\n",
        "                              safety_settings=safety_settings)"
      ],
      "metadata": {
        "id": "gMwbnb-Favcy"
      },
      "execution_count": null,
      "outputs": []
    },
    {
      "cell_type": "code",
      "source": [
        "response = model.generate_content('Quero conteúdo sobre IA. Me apresente sugestões')\n",
        "print(response.text)"
      ],
      "metadata": {
        "id": "VkkhEnfLbcSf"
      },
      "execution_count": null,
      "outputs": []
    },
    {
      "cell_type": "code",
      "source": [
        "chat = model.start_chat(history=[])"
      ],
      "metadata": {
        "id": "2hEvEgVrcy-m"
      },
      "execution_count": null,
      "outputs": []
    },
    {
      "cell_type": "code",
      "source": [
        "while True:\n",
        "    prompt = input('Usuário: ')\n",
        "\n",
        "    if prompt == 'fim':\n",
        "        print('Modelo: Obrigado por conversar comigo. Foi um prazer.')\n",
        "        break\n",
        "\n",
        "    response = chat.send_message(prompt)\n",
        "    print('Modelo:', response.text, end='\\n\\n')\n"
      ],
      "metadata": {
        "colab": {
          "base_uri": "https://localhost:8080/",
          "height": 211
        },
        "id": "Ro4yNU5d1pf9",
        "outputId": "5ba1061a-3afd-4fc2-f59f-ef65a211db75"
      },
      "execution_count": null,
      "outputs": [
        {
          "output_type": "stream",
          "name": "stdout",
          "text": [
            "Usuário: Qual a capital do Brasil ?\n",
            "Modelo: Brasília\n",
            "Usuário: Ele foi inspirado em algo ?\n",
            "Modelo: Sim, Brasília foi inspirada na cruz.\n",
            "\n",
            "O projeto da cidade foi concebido pelo arquiteto Oscar Niemeyer e pelo urbanista Lúcio Costa, que se inspiraram na forma de uma cruz para organizar o layout da cidade. O eixo principal da cidade, o Eixo Monumental, representa o mastro da cruz, enquanto o Eixo Rodoviário, que liga o Plano Piloto ao aeroporto, representa a trave.\n",
            "\n",
            "Os principais edifícios governamentais, como o Congresso Nacional, o Palácio do Planalto e o Supremo Tribunal Federal, estão localizados ao longo do Eixo Monumental, simbolizando os braços da cruz.\n",
            "Usuário: fim\n",
            "Modelo: Obrigado por conversar comigo. Foi um prazer.\n"
          ]
        }
      ]
    }
  ]
}